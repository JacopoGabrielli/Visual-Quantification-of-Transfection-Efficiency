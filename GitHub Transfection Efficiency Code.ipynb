{
 "cells": [
  {
   "cell_type": "code",
   "execution_count": null,
   "metadata": {},
   "outputs": [],
   "source": [
    "import cv2\n",
    "import numpy as np\n",
    "from matplotlib import pyplot as plt\n",
    "from skimage.segmentation import clear_border"
   ]
  },
  {
   "cell_type": "code",
   "execution_count": null,
   "metadata": {},
   "outputs": [],
   "source": [
    "img = cv2.imread(\"F:\\\\T5_1_Hoescht_Cy3_15_4H.jpg\")"
   ]
  },
  {
   "cell_type": "code",
   "execution_count": null,
   "metadata": {},
   "outputs": [],
   "source": [
    "img = cv2.resize(img, (15000, 8000))\n",
    "s_nuclei = img[:,:,0]\n",
    "s_cy3_dna = img[:,:,2]"
   ]
  },
  {
   "cell_type": "code",
   "execution_count": null,
   "metadata": {},
   "outputs": [],
   "source": [
    "f,ax = plt.subplots(2,1)\n",
    "ax[0].imshow(s_cy3_dna)\n",
    "ax[0].set_title('red channel')\n",
    "ax[1].imshow(s_nuclei)\n",
    "ax[1].set_title('blue channel')"
   ]
  },
  {
   "cell_type": "code",
   "execution_count": null,
   "metadata": {},
   "outputs": [],
   "source": [
    "ret1, thresh = cv2.threshold(s_nuclei, 0, 255, cv2.THRESH_BINARY+cv2.THRESH_OTSU)\n",
    "ret2, thresh1 = cv2.threshold(s_cy3_dna, 0, 255, cv2.THRESH_BINARY+cv2.THRESH_OTSU)\n"
   ]
  },
  {
   "cell_type": "code",
   "execution_count": null,
   "metadata": {},
   "outputs": [],
   "source": [
    "kernel = np.ones((3,3),np.uint8)\n",
    "opening = cv2.morphologyEx(thresh,cv2.MORPH_OPEN,kernel, iterations = 2)\n",
    "opening = clear_border(opening) #Remove edge touching grains\n",
    "plt.imshow(opening, cmap='gray') #This is our image to be segmented further using watershed\n",
    "#Check the total regions found before and after applying this. Code Below. "
   ]
  },
  {
   "cell_type": "code",
   "execution_count": null,
   "metadata": {},
   "outputs": [],
   "source": [
    "kernel2 = np.ones((3,3),np.uint8)\n",
    "opening1 = cv2.morphologyEx(thresh1,cv2.MORPH_OPEN,kernel2, iterations = 2)\n",
    "opening1 = clear_border(opening1) #Remove edge touching grains\n",
    "plt.imshow(opening1, cmap='gray') #This is our image to be segmented further using watershed\n",
    "#Check the total regions found before and after applying this. Code Below. "
   ]
  },
  {
   "cell_type": "code",
   "execution_count": null,
   "metadata": {},
   "outputs": [],
   "source": [
    "reds = np.where(opening1 > 0)\n",
    "in_cell = []\n",
    "out_cell = []\n",
    "for r in range(len(reds[0])):\n",
    "    if opening[reds[0][r],reds[1][r]]>0:\n",
    "        in_cell.append(s_cy3_dna[reds[0][r], reds[1][r]])\n",
    "    else:\n",
    "        out_cell.append(s_cy3_dna[reds[0][r], reds[1][r]])\n",
    "print('plasmids in cells:' + str(len(in_cell)/(len(in_cell)+len(out_cell))))\n",
    "print('plasmids out of cells:' + str(len(out_cell)/(len(in_cell)+len(out_cell))))\n",
    "print(np.mean(in_cell), np.median(in_cell))\n",
    "print(np.mean(out_cell), np.median(out_cell))\n"
   ]
  },
  {
   "cell_type": "code",
   "execution_count": null,
   "metadata": {},
   "outputs": [],
   "source": [
    "f,ax = plt.subplots(2,1)\n",
    "ax[0].hist(in_cell, density=True, stacked = True)\n",
    "ax[0].set_title('plasmid pixels in the nucleus')\n",
    "ax[1].hist(out_cell, density=True,stacked = True)\n",
    "ax[1].set_title('plasmid pixels out of the nucleus')"
   ]
  }
 ],
 "metadata": {
  "kernelspec": {
   "display_name": "Python 3",
   "language": "python",
   "name": "python3"
  },
  "language_info": {
   "codemirror_mode": {
    "name": "ipython",
    "version": 3
   },
   "file_extension": ".py",
   "mimetype": "text/x-python",
   "name": "python",
   "nbconvert_exporter": "python",
   "pygments_lexer": "ipython3",
   "version": "3.8.5"
  }
 },
 "nbformat": 4,
 "nbformat_minor": 4
}
